{
  "nbformat": 4,
  "nbformat_minor": 0,
  "metadata": {
    "colab": {
      "name": "Analysis Model",
      "provenance": [],
      "collapsed_sections": []
    },
    "kernelspec": {
      "name": "python3",
      "display_name": "Python 3"
    },
    "language_info": {
      "name": "python"
    }
  },
  "cells": [
    {
      "cell_type": "code",
      "source": [
        "#Analysis Model(JH)\n",
        "!pip install rembg==1.0.10"
      ],
      "metadata": {
        "colab": {
          "base_uri": "https://localhost:8080/",
          "height": 1000
        },
        "id": "CeCxiC7A_sVp",
        "outputId": "7148dc52-f19c-4a0c-9dc6-87d505866589"
      },
      "execution_count": null,
      "outputs": [
        {
          "output_type": "stream",
          "name": "stdout",
          "text": [
            "Collecting rembg==1.0.10\n",
            "  Downloading rembg-1.0.10.tar.gz (11 kB)\n",
            "  Installing build dependencies ... \u001b[?25l\u001b[?25hdone\n",
            "  Getting requirements to build wheel ... \u001b[?25l\u001b[?25hdone\n",
            "    Preparing wheel metadata ... \u001b[?25l\u001b[?25hdone\n",
            "Collecting flask==1.1.2\n",
            "  Downloading Flask-1.1.2-py2.py3-none-any.whl (94 kB)\n",
            "\u001b[K     |████████████████████████████████| 94 kB 3.0 MB/s \n",
            "\u001b[?25hCollecting torchvision==0.7.0\n",
            "  Downloading torchvision-0.7.0-cp37-cp37m-manylinux1_x86_64.whl (5.9 MB)\n",
            "\u001b[K     |████████████████████████████████| 5.9 MB 47.4 MB/s \n",
            "\u001b[?25hCollecting pillow==7.2.0\n",
            "  Downloading Pillow-7.2.0-cp37-cp37m-manylinux1_x86_64.whl (2.2 MB)\n",
            "\u001b[K     |████████████████████████████████| 2.2 MB 53.4 MB/s \n",
            "\u001b[?25hCollecting scikit-image==0.17.2\n",
            "  Downloading scikit_image-0.17.2-cp37-cp37m-manylinux1_x86_64.whl (12.5 MB)\n",
            "\u001b[K     |████████████████████████████████| 12.5 MB 50.9 MB/s \n",
            "\u001b[?25hCollecting requests==2.24.0\n",
            "  Downloading requests-2.24.0-py2.py3-none-any.whl (61 kB)\n",
            "\u001b[K     |████████████████████████████████| 61 kB 483 kB/s \n",
            "\u001b[?25hCollecting torch==1.6.0\n",
            "  Downloading torch-1.6.0-cp37-cp37m-manylinux1_x86_64.whl (748.8 MB)\n",
            "\u001b[K     |████████████████████████████████| 748.8 MB 17 kB/s \n",
            "\u001b[?25hCollecting numpy==1.19.1\n",
            "  Downloading numpy-1.19.1-cp37-cp37m-manylinux2010_x86_64.whl (14.5 MB)\n",
            "\u001b[K     |████████████████████████████████| 14.5 MB 43.2 MB/s \n",
            "\u001b[?25hCollecting waitress==1.4.4\n",
            "  Downloading waitress-1.4.4-py2.py3-none-any.whl (58 kB)\n",
            "\u001b[K     |████████████████████████████████| 58 kB 5.9 MB/s \n",
            "\u001b[?25hCollecting tqdm==4.48.2\n",
            "  Downloading tqdm-4.48.2-py2.py3-none-any.whl (68 kB)\n",
            "\u001b[K     |████████████████████████████████| 68 kB 6.8 MB/s \n",
            "\u001b[?25hRequirement already satisfied: itsdangerous>=0.24 in /usr/local/lib/python3.7/dist-packages (from flask==1.1.2->rembg==1.0.10) (1.1.0)\n",
            "Requirement already satisfied: Jinja2>=2.10.1 in /usr/local/lib/python3.7/dist-packages (from flask==1.1.2->rembg==1.0.10) (2.11.3)\n",
            "Requirement already satisfied: click>=5.1 in /usr/local/lib/python3.7/dist-packages (from flask==1.1.2->rembg==1.0.10) (7.1.2)\n",
            "Requirement already satisfied: Werkzeug>=0.15 in /usr/local/lib/python3.7/dist-packages (from flask==1.1.2->rembg==1.0.10) (1.0.1)\n",
            "Requirement already satisfied: certifi>=2017.4.17 in /usr/local/lib/python3.7/dist-packages (from requests==2.24.0->rembg==1.0.10) (2021.10.8)\n",
            "Requirement already satisfied: idna<3,>=2.5 in /usr/local/lib/python3.7/dist-packages (from requests==2.24.0->rembg==1.0.10) (2.10)\n",
            "Requirement already satisfied: urllib3!=1.25.0,!=1.25.1,<1.26,>=1.21.1 in /usr/local/lib/python3.7/dist-packages (from requests==2.24.0->rembg==1.0.10) (1.24.3)\n",
            "Requirement already satisfied: chardet<4,>=3.0.2 in /usr/local/lib/python3.7/dist-packages (from requests==2.24.0->rembg==1.0.10) (3.0.4)\n",
            "Requirement already satisfied: networkx>=2.0 in /usr/local/lib/python3.7/dist-packages (from scikit-image==0.17.2->rembg==1.0.10) (2.6.3)\n",
            "Requirement already satisfied: imageio>=2.3.0 in /usr/local/lib/python3.7/dist-packages (from scikit-image==0.17.2->rembg==1.0.10) (2.4.1)\n",
            "Requirement already satisfied: scipy>=1.0.1 in /usr/local/lib/python3.7/dist-packages (from scikit-image==0.17.2->rembg==1.0.10) (1.4.1)\n",
            "Requirement already satisfied: matplotlib!=3.0.0,>=2.0.0 in /usr/local/lib/python3.7/dist-packages (from scikit-image==0.17.2->rembg==1.0.10) (3.2.2)\n",
            "Requirement already satisfied: tifffile>=2019.7.26 in /usr/local/lib/python3.7/dist-packages (from scikit-image==0.17.2->rembg==1.0.10) (2021.11.2)\n",
            "Requirement already satisfied: PyWavelets>=1.1.1 in /usr/local/lib/python3.7/dist-packages (from scikit-image==0.17.2->rembg==1.0.10) (1.3.0)\n",
            "Requirement already satisfied: future in /usr/local/lib/python3.7/dist-packages (from torch==1.6.0->rembg==1.0.10) (0.16.0)\n",
            "Requirement already satisfied: MarkupSafe>=0.23 in /usr/local/lib/python3.7/dist-packages (from Jinja2>=2.10.1->flask==1.1.2->rembg==1.0.10) (2.0.1)\n",
            "Requirement already satisfied: python-dateutil>=2.1 in /usr/local/lib/python3.7/dist-packages (from matplotlib!=3.0.0,>=2.0.0->scikit-image==0.17.2->rembg==1.0.10) (2.8.2)\n",
            "Requirement already satisfied: pyparsing!=2.0.4,!=2.1.2,!=2.1.6,>=2.0.1 in /usr/local/lib/python3.7/dist-packages (from matplotlib!=3.0.0,>=2.0.0->scikit-image==0.17.2->rembg==1.0.10) (3.0.8)\n",
            "Requirement already satisfied: cycler>=0.10 in /usr/local/lib/python3.7/dist-packages (from matplotlib!=3.0.0,>=2.0.0->scikit-image==0.17.2->rembg==1.0.10) (0.11.0)\n",
            "Requirement already satisfied: kiwisolver>=1.0.1 in /usr/local/lib/python3.7/dist-packages (from matplotlib!=3.0.0,>=2.0.0->scikit-image==0.17.2->rembg==1.0.10) (1.4.2)\n",
            "Requirement already satisfied: typing-extensions in /usr/local/lib/python3.7/dist-packages (from kiwisolver>=1.0.1->matplotlib!=3.0.0,>=2.0.0->scikit-image==0.17.2->rembg==1.0.10) (4.2.0)\n",
            "Requirement already satisfied: six>=1.5 in /usr/local/lib/python3.7/dist-packages (from python-dateutil>=2.1->matplotlib!=3.0.0,>=2.0.0->scikit-image==0.17.2->rembg==1.0.10) (1.15.0)\n",
            "Building wheels for collected packages: rembg\n",
            "  Building wheel for rembg (PEP 517) ... \u001b[?25l\u001b[?25hdone\n",
            "  Created wheel for rembg: filename=rembg-1.0.10-py3-none-any.whl size=10916 sha256=50dead850003a7f82d491c443e853e91f60edcb5053547b583839fa617dff1fc\n",
            "  Stored in directory: /root/.cache/pip/wheels/94/46/2c/0809f1587a2584b0ff940bce961fc7b40993fab72466c82ca8\n",
            "Successfully built rembg\n",
            "Installing collected packages: pillow, numpy, torch, waitress, tqdm, torchvision, scikit-image, requests, flask, rembg\n",
            "  Attempting uninstall: pillow\n",
            "    Found existing installation: Pillow 7.1.2\n",
            "    Uninstalling Pillow-7.1.2:\n",
            "      Successfully uninstalled Pillow-7.1.2\n",
            "  Attempting uninstall: numpy\n",
            "    Found existing installation: numpy 1.21.6\n",
            "    Uninstalling numpy-1.21.6:\n",
            "      Successfully uninstalled numpy-1.21.6\n",
            "  Attempting uninstall: torch\n",
            "    Found existing installation: torch 1.11.0+cu113\n",
            "    Uninstalling torch-1.11.0+cu113:\n",
            "      Successfully uninstalled torch-1.11.0+cu113\n",
            "  Attempting uninstall: tqdm\n",
            "    Found existing installation: tqdm 4.64.0\n",
            "    Uninstalling tqdm-4.64.0:\n",
            "      Successfully uninstalled tqdm-4.64.0\n",
            "  Attempting uninstall: torchvision\n",
            "    Found existing installation: torchvision 0.12.0+cu113\n",
            "    Uninstalling torchvision-0.12.0+cu113:\n",
            "      Successfully uninstalled torchvision-0.12.0+cu113\n",
            "  Attempting uninstall: scikit-image\n",
            "    Found existing installation: scikit-image 0.18.3\n",
            "    Uninstalling scikit-image-0.18.3:\n",
            "      Successfully uninstalled scikit-image-0.18.3\n",
            "  Attempting uninstall: requests\n",
            "    Found existing installation: requests 2.23.0\n",
            "    Uninstalling requests-2.23.0:\n",
            "      Successfully uninstalled requests-2.23.0\n",
            "  Attempting uninstall: flask\n",
            "    Found existing installation: Flask 1.1.4\n",
            "    Uninstalling Flask-1.1.4:\n",
            "      Successfully uninstalled Flask-1.1.4\n",
            "\u001b[31mERROR: pip's dependency resolver does not currently take into account all the packages that are installed. This behaviour is the source of the following dependency conflicts.\n",
            "tensorflow 2.8.0 requires tf-estimator-nightly==2.8.0.dev2021122109, which is not installed.\n",
            "torchtext 0.12.0 requires torch==1.11.0, but you have torch 1.6.0 which is incompatible.\n",
            "torchaudio 0.11.0+cu113 requires torch==1.11.0, but you have torch 1.6.0 which is incompatible.\n",
            "tensorflow 2.8.0 requires numpy>=1.20, but you have numpy 1.19.1 which is incompatible.\n",
            "google-colab 1.0.0 requires requests~=2.23.0, but you have requests 2.24.0 which is incompatible.\n",
            "datascience 0.10.6 requires folium==0.2.1, but you have folium 0.8.3 which is incompatible.\n",
            "albumentations 0.1.12 requires imgaug<0.2.7,>=0.2.5, but you have imgaug 0.2.9 which is incompatible.\u001b[0m\n",
            "Successfully installed flask-1.1.2 numpy-1.19.1 pillow-7.2.0 rembg-1.0.10 requests-2.24.0 scikit-image-0.17.2 torch-1.6.0 torchvision-0.7.0 tqdm-4.48.2 waitress-1.4.4\n"
          ]
        },
        {
          "output_type": "display_data",
          "data": {
            "application/vnd.colab-display-data+json": {
              "pip_warning": {
                "packages": [
                  "PIL",
                  "numpy"
                ]
              }
            }
          },
          "metadata": {}
        }
      ]
    },
    {
      "cell_type": "code",
      "source": [
        ""
      ],
      "metadata": {
        "id": "sHoDlbDSD_u3"
      },
      "execution_count": null,
      "outputs": []
    },
    {
      "cell_type": "markdown",
      "source": [
        ""
      ],
      "metadata": {
        "id": "y_AoK8ht-uTq"
      }
    },
    {
      "cell_type": "code",
      "source": [
        "!pip install easyocr"
      ],
      "metadata": {
        "colab": {
          "base_uri": "https://localhost:8080/"
        },
        "id": "SvI4LScZaMIm",
        "outputId": "8527f9d4-9607-4934-9941-60b7f80068c2"
      },
      "execution_count": null,
      "outputs": [
        {
          "output_type": "stream",
          "name": "stdout",
          "text": [
            "Collecting easyocr\n",
            "  Downloading easyocr-1.4.2-py3-none-any.whl (70.8 MB)\n",
            "\u001b[K     |████████████████████████████████| 70.8 MB 12.8 MB/s \n",
            "\u001b[?25hRequirement already satisfied: scipy in /usr/local/lib/python3.7/dist-packages (from easyocr) (1.4.1)\n",
            "Requirement already satisfied: scikit-image in /usr/local/lib/python3.7/dist-packages (from easyocr) (0.17.2)\n",
            "Collecting opencv-python-headless<=4.5.4.60\n",
            "  Downloading opencv_python_headless-4.5.4.60-cp37-cp37m-manylinux_2_17_x86_64.manylinux2014_x86_64.whl (47.6 MB)\n",
            "\u001b[K     |████████████████████████████████| 47.6 MB 70 kB/s \n",
            "\u001b[?25hRequirement already satisfied: numpy in /usr/local/lib/python3.7/dist-packages (from easyocr) (1.19.1)\n",
            "Requirement already satisfied: PyYAML in /usr/local/lib/python3.7/dist-packages (from easyocr) (3.13)\n",
            "Requirement already satisfied: torchvision>=0.5 in /usr/local/lib/python3.7/dist-packages (from easyocr) (0.7.0)\n",
            "Requirement already satisfied: Pillow in /usr/local/lib/python3.7/dist-packages (from easyocr) (7.2.0)\n",
            "Collecting python-bidi\n",
            "  Downloading python_bidi-0.4.2-py2.py3-none-any.whl (30 kB)\n",
            "Requirement already satisfied: torch in /usr/local/lib/python3.7/dist-packages (from easyocr) (1.6.0)\n",
            "Requirement already satisfied: future in /usr/local/lib/python3.7/dist-packages (from torch->easyocr) (0.16.0)\n",
            "Requirement already satisfied: six in /usr/local/lib/python3.7/dist-packages (from python-bidi->easyocr) (1.15.0)\n",
            "Requirement already satisfied: matplotlib!=3.0.0,>=2.0.0 in /usr/local/lib/python3.7/dist-packages (from scikit-image->easyocr) (3.2.2)\n",
            "Requirement already satisfied: tifffile>=2019.7.26 in /usr/local/lib/python3.7/dist-packages (from scikit-image->easyocr) (2021.11.2)\n",
            "Requirement already satisfied: networkx>=2.0 in /usr/local/lib/python3.7/dist-packages (from scikit-image->easyocr) (2.6.3)\n",
            "Requirement already satisfied: imageio>=2.3.0 in /usr/local/lib/python3.7/dist-packages (from scikit-image->easyocr) (2.4.1)\n",
            "Requirement already satisfied: PyWavelets>=1.1.1 in /usr/local/lib/python3.7/dist-packages (from scikit-image->easyocr) (1.3.0)\n",
            "Requirement already satisfied: cycler>=0.10 in /usr/local/lib/python3.7/dist-packages (from matplotlib!=3.0.0,>=2.0.0->scikit-image->easyocr) (0.11.0)\n",
            "Requirement already satisfied: kiwisolver>=1.0.1 in /usr/local/lib/python3.7/dist-packages (from matplotlib!=3.0.0,>=2.0.0->scikit-image->easyocr) (1.4.2)\n",
            "Requirement already satisfied: python-dateutil>=2.1 in /usr/local/lib/python3.7/dist-packages (from matplotlib!=3.0.0,>=2.0.0->scikit-image->easyocr) (2.8.2)\n",
            "Requirement already satisfied: pyparsing!=2.0.4,!=2.1.2,!=2.1.6,>=2.0.1 in /usr/local/lib/python3.7/dist-packages (from matplotlib!=3.0.0,>=2.0.0->scikit-image->easyocr) (3.0.8)\n",
            "Requirement already satisfied: typing-extensions in /usr/local/lib/python3.7/dist-packages (from kiwisolver>=1.0.1->matplotlib!=3.0.0,>=2.0.0->scikit-image->easyocr) (4.2.0)\n",
            "Installing collected packages: python-bidi, opencv-python-headless, easyocr\n",
            "Successfully installed easyocr-1.4.2 opencv-python-headless-4.5.4.60 python-bidi-0.4.2\n"
          ]
        }
      ]
    },
    {
      "cell_type": "code",
      "source": [
        "%cd /content\n",
        "!git clone https://github.com/ultralytics/yolov5.git"
      ],
      "metadata": {
        "colab": {
          "base_uri": "https://localhost:8080/"
        },
        "id": "coJ6Ny-taet7",
        "outputId": "c5b9f1b5-0f8c-45c7-c002-283737cfcccd"
      },
      "execution_count": null,
      "outputs": [
        {
          "output_type": "stream",
          "name": "stdout",
          "text": [
            "/content\n",
            "fatal: destination path 'yolov5' already exists and is not an empty directory.\n"
          ]
        }
      ]
    },
    {
      "cell_type": "code",
      "source": [
        "%cd /content/yolov5/\n",
        "!pip install -r requirements.txt"
      ],
      "metadata": {
        "colab": {
          "base_uri": "https://localhost:8080/"
        },
        "id": "tljZX5fCalCq",
        "outputId": "6d7969e1-8202-4104-9854-25e858908267"
      },
      "execution_count": null,
      "outputs": [
        {
          "output_type": "stream",
          "name": "stdout",
          "text": [
            "/content/yolov5\n",
            "Requirement already satisfied: matplotlib>=3.2.2 in /usr/local/lib/python3.7/dist-packages (from -r requirements.txt (line 4)) (3.2.2)\n",
            "Requirement already satisfied: numpy>=1.18.5 in /usr/local/lib/python3.7/dist-packages (from -r requirements.txt (line 5)) (1.19.1)\n",
            "Requirement already satisfied: opencv-python>=4.1.1 in /usr/local/lib/python3.7/dist-packages (from -r requirements.txt (line 6)) (4.1.2.30)\n",
            "Requirement already satisfied: Pillow>=7.1.2 in /usr/local/lib/python3.7/dist-packages (from -r requirements.txt (line 7)) (7.2.0)\n",
            "Collecting PyYAML>=5.3.1\n",
            "  Downloading PyYAML-6.0-cp37-cp37m-manylinux_2_5_x86_64.manylinux1_x86_64.manylinux_2_12_x86_64.manylinux2010_x86_64.whl (596 kB)\n",
            "\u001b[K     |████████████████████████████████| 596 kB 15.3 MB/s \n",
            "\u001b[?25hRequirement already satisfied: requests>=2.23.0 in /usr/local/lib/python3.7/dist-packages (from -r requirements.txt (line 9)) (2.24.0)\n",
            "Requirement already satisfied: scipy>=1.4.1 in /usr/local/lib/python3.7/dist-packages (from -r requirements.txt (line 10)) (1.4.1)\n",
            "Collecting torch>=1.7.0\n",
            "  Downloading torch-1.11.0-cp37-cp37m-manylinux1_x86_64.whl (750.6 MB)\n",
            "\u001b[K     |████████████████████████████████| 750.6 MB 11 kB/s \n",
            "\u001b[?25hCollecting torchvision>=0.8.1\n",
            "  Downloading torchvision-0.12.0-cp37-cp37m-manylinux1_x86_64.whl (21.0 MB)\n",
            "\u001b[K     |████████████████████████████████| 21.0 MB 40.7 MB/s \n",
            "\u001b[?25hRequirement already satisfied: tqdm>=4.41.0 in /usr/local/lib/python3.7/dist-packages (from -r requirements.txt (line 13)) (4.48.2)\n",
            "Requirement already satisfied: tensorboard>=2.4.1 in /usr/local/lib/python3.7/dist-packages (from -r requirements.txt (line 16)) (2.8.0)\n",
            "Requirement already satisfied: pandas>=1.1.4 in /usr/local/lib/python3.7/dist-packages (from -r requirements.txt (line 20)) (1.3.5)\n",
            "Requirement already satisfied: seaborn>=0.11.0 in /usr/local/lib/python3.7/dist-packages (from -r requirements.txt (line 21)) (0.11.2)\n",
            "Collecting thop\n",
            "  Downloading thop-0.0.31.post2005241907-py3-none-any.whl (8.7 kB)\n",
            "Requirement already satisfied: python-dateutil>=2.1 in /usr/local/lib/python3.7/dist-packages (from matplotlib>=3.2.2->-r requirements.txt (line 4)) (2.8.2)\n",
            "Requirement already satisfied: cycler>=0.10 in /usr/local/lib/python3.7/dist-packages (from matplotlib>=3.2.2->-r requirements.txt (line 4)) (0.11.0)\n",
            "Requirement already satisfied: pyparsing!=2.0.4,!=2.1.2,!=2.1.6,>=2.0.1 in /usr/local/lib/python3.7/dist-packages (from matplotlib>=3.2.2->-r requirements.txt (line 4)) (3.0.8)\n",
            "Requirement already satisfied: kiwisolver>=1.0.1 in /usr/local/lib/python3.7/dist-packages (from matplotlib>=3.2.2->-r requirements.txt (line 4)) (1.4.2)\n",
            "Requirement already satisfied: idna<3,>=2.5 in /usr/local/lib/python3.7/dist-packages (from requests>=2.23.0->-r requirements.txt (line 9)) (2.10)\n",
            "Requirement already satisfied: urllib3!=1.25.0,!=1.25.1,<1.26,>=1.21.1 in /usr/local/lib/python3.7/dist-packages (from requests>=2.23.0->-r requirements.txt (line 9)) (1.24.3)\n",
            "Requirement already satisfied: chardet<4,>=3.0.2 in /usr/local/lib/python3.7/dist-packages (from requests>=2.23.0->-r requirements.txt (line 9)) (3.0.4)\n",
            "Requirement already satisfied: certifi>=2017.4.17 in /usr/local/lib/python3.7/dist-packages (from requests>=2.23.0->-r requirements.txt (line 9)) (2021.10.8)\n",
            "Requirement already satisfied: typing-extensions in /usr/local/lib/python3.7/dist-packages (from torch>=1.7.0->-r requirements.txt (line 11)) (4.2.0)\n",
            "Requirement already satisfied: google-auth-oauthlib<0.5,>=0.4.1 in /usr/local/lib/python3.7/dist-packages (from tensorboard>=2.4.1->-r requirements.txt (line 16)) (0.4.6)\n",
            "Requirement already satisfied: tensorboard-plugin-wit>=1.6.0 in /usr/local/lib/python3.7/dist-packages (from tensorboard>=2.4.1->-r requirements.txt (line 16)) (1.8.1)\n",
            "Requirement already satisfied: grpcio>=1.24.3 in /usr/local/lib/python3.7/dist-packages (from tensorboard>=2.4.1->-r requirements.txt (line 16)) (1.44.0)\n",
            "Requirement already satisfied: absl-py>=0.4 in /usr/local/lib/python3.7/dist-packages (from tensorboard>=2.4.1->-r requirements.txt (line 16)) (1.0.0)\n",
            "Requirement already satisfied: tensorboard-data-server<0.7.0,>=0.6.0 in /usr/local/lib/python3.7/dist-packages (from tensorboard>=2.4.1->-r requirements.txt (line 16)) (0.6.1)\n",
            "Requirement already satisfied: google-auth<3,>=1.6.3 in /usr/local/lib/python3.7/dist-packages (from tensorboard>=2.4.1->-r requirements.txt (line 16)) (1.35.0)\n",
            "Requirement already satisfied: werkzeug>=0.11.15 in /usr/local/lib/python3.7/dist-packages (from tensorboard>=2.4.1->-r requirements.txt (line 16)) (1.0.1)\n",
            "Requirement already satisfied: markdown>=2.6.8 in /usr/local/lib/python3.7/dist-packages (from tensorboard>=2.4.1->-r requirements.txt (line 16)) (3.3.6)\n",
            "Requirement already satisfied: protobuf>=3.6.0 in /usr/local/lib/python3.7/dist-packages (from tensorboard>=2.4.1->-r requirements.txt (line 16)) (3.17.3)\n",
            "Requirement already satisfied: setuptools>=41.0.0 in /usr/local/lib/python3.7/dist-packages (from tensorboard>=2.4.1->-r requirements.txt (line 16)) (57.4.0)\n",
            "Requirement already satisfied: wheel>=0.26 in /usr/local/lib/python3.7/dist-packages (from tensorboard>=2.4.1->-r requirements.txt (line 16)) (0.37.1)\n",
            "Requirement already satisfied: pytz>=2017.3 in /usr/local/lib/python3.7/dist-packages (from pandas>=1.1.4->-r requirements.txt (line 20)) (2022.1)\n",
            "Requirement already satisfied: six in /usr/local/lib/python3.7/dist-packages (from absl-py>=0.4->tensorboard>=2.4.1->-r requirements.txt (line 16)) (1.15.0)\n",
            "Requirement already satisfied: cachetools<5.0,>=2.0.0 in /usr/local/lib/python3.7/dist-packages (from google-auth<3,>=1.6.3->tensorboard>=2.4.1->-r requirements.txt (line 16)) (4.2.4)\n",
            "Requirement already satisfied: rsa<5,>=3.1.4 in /usr/local/lib/python3.7/dist-packages (from google-auth<3,>=1.6.3->tensorboard>=2.4.1->-r requirements.txt (line 16)) (4.8)\n",
            "Requirement already satisfied: pyasn1-modules>=0.2.1 in /usr/local/lib/python3.7/dist-packages (from google-auth<3,>=1.6.3->tensorboard>=2.4.1->-r requirements.txt (line 16)) (0.2.8)\n",
            "Requirement already satisfied: requests-oauthlib>=0.7.0 in /usr/local/lib/python3.7/dist-packages (from google-auth-oauthlib<0.5,>=0.4.1->tensorboard>=2.4.1->-r requirements.txt (line 16)) (1.3.1)\n",
            "Requirement already satisfied: importlib-metadata>=4.4 in /usr/local/lib/python3.7/dist-packages (from markdown>=2.6.8->tensorboard>=2.4.1->-r requirements.txt (line 16)) (4.11.3)\n",
            "Requirement already satisfied: zipp>=0.5 in /usr/local/lib/python3.7/dist-packages (from importlib-metadata>=4.4->markdown>=2.6.8->tensorboard>=2.4.1->-r requirements.txt (line 16)) (3.8.0)\n",
            "Requirement already satisfied: pyasn1<0.5.0,>=0.4.6 in /usr/local/lib/python3.7/dist-packages (from pyasn1-modules>=0.2.1->google-auth<3,>=1.6.3->tensorboard>=2.4.1->-r requirements.txt (line 16)) (0.4.8)\n",
            "Requirement already satisfied: oauthlib>=3.0.0 in /usr/local/lib/python3.7/dist-packages (from requests-oauthlib>=0.7.0->google-auth-oauthlib<0.5,>=0.4.1->tensorboard>=2.4.1->-r requirements.txt (line 16)) (3.2.0)\n",
            "Installing collected packages: torch, torchvision, thop, PyYAML\n",
            "  Attempting uninstall: torch\n",
            "    Found existing installation: torch 1.6.0\n",
            "    Uninstalling torch-1.6.0:\n",
            "      Successfully uninstalled torch-1.6.0\n",
            "  Attempting uninstall: torchvision\n",
            "    Found existing installation: torchvision 0.7.0\n",
            "    Uninstalling torchvision-0.7.0:\n",
            "      Successfully uninstalled torchvision-0.7.0\n",
            "  Attempting uninstall: PyYAML\n",
            "    Found existing installation: PyYAML 3.13\n",
            "    Uninstalling PyYAML-3.13:\n",
            "      Successfully uninstalled PyYAML-3.13\n",
            "\u001b[31mERROR: pip's dependency resolver does not currently take into account all the packages that are installed. This behaviour is the source of the following dependency conflicts.\n",
            "rembg 1.0.10 requires torch==1.6.0, but you have torch 1.11.0 which is incompatible.\n",
            "rembg 1.0.10 requires torchvision==0.7.0, but you have torchvision 0.12.0 which is incompatible.\u001b[0m\n",
            "Successfully installed PyYAML-6.0 thop-0.0.31.post2005241907 torch-1.11.0 torchvision-0.12.0\n"
          ]
        }
      ]
    },
    {
      "cell_type": "code",
      "execution_count": null,
      "metadata": {
        "colab": {
          "base_uri": "https://localhost:8080/"
        },
        "id": "k-ng68tsaBxK",
        "outputId": "0286460e-ab35-4fed-ac8b-9ebbf4213dc0"
      },
      "outputs": [
        {
          "output_type": "stream",
          "name": "stdout",
          "text": [
            "/content/yolov5\n",
            "\u001b[34m\u001b[1mdetect: \u001b[0mweights=['/content/drive/MyDrive/Colab/pill_yolo.pt'], source=/content/drive/MyDrive/Colab/pill_rect.jpg, data=data/coco128.yaml, imgsz=[416, 416], conf_thres=0.5, iou_thres=0.45, max_det=1000, device=, view_img=False, save_txt=False, save_conf=False, save_crop=True, nosave=False, classes=None, agnostic_nms=False, augment=False, visualize=False, update=False, project=runs/detect, name=exp, exist_ok=False, line_thickness=1, hide_labels=False, hide_conf=False, half=False, dnn=False\n",
            "YOLOv5 🚀 v6.1-186-g3356f26 Python-3.7.13 torch-1.11.0+cu102 CPU\n",
            "\n",
            "Fusing layers... \n",
            "YOLOv5s summary: 213 layers, 7012822 parameters, 0 gradients\n",
            "image 1/1 /content/drive/MyDrive/Colab/pill_rect.jpg: 256x416 2 pills, Done. (0.113s)\n",
            "Speed: 0.7ms pre-process, 113.2ms inference, 1.1ms NMS per image at shape (1, 3, 416, 416)\n",
            "Results saved to \u001b[1mruns/detect/exp47\u001b[0m\n",
            "/content\n"
          ]
        },
        {
          "output_type": "stream",
          "name": "stderr",
          "text": [
            "/usr/local/lib/python3.7/dist-packages/torch/nn/functional.py:780: UserWarning: Note that order of the arguments: ceil_mode and return_indices will changeto match the args list in nn.MaxPool2d in a future release.\n",
            "  warnings.warn(\"Note that order of the arguments: ceil_mode and return_indices will change\"\n"
          ]
        },
        {
          "output_type": "stream",
          "name": "stdout",
          "text": [
            "[Case1.제형] n각형 분석 : 14각형\n",
            "[Case2.비율] 비율 분석(세로/가로 비율) : 0.9848484848484849\n",
            "[Case3.색상] 색상 분석(R,G,B)\n",
            "[Case3-1.색상] 색상 분석(빨간색, R) : 188\n",
            "[Case3-2.색상] 색상 분석(초록색, G) : 168\n",
            "[Case3-3.색상] 색상 분석(파란색, B) : 155\n"
          ]
        },
        {
          "output_type": "stream",
          "name": "stderr",
          "text": [
            "CUDA not available - defaulting to CPU. Note: This module is much faster with a GPU.\n"
          ]
        },
        {
          "output_type": "stream",
          "name": "stdout",
          "text": [
            "[Case4.OCR] OCR 분석 결과 : PIIU471\n",
            "[Case5.최종 분석결과] : ['원형', '장방형', '빨강 계열', 'PIIU471']\n"
          ]
        }
      ],
      "source": [
        "from glob import glob\n",
        "from PIL import Image\n",
        "from rembg.bg import remove\n",
        "from IPython.display import Image\n",
        "from sklearn.cluster import KMeans\n",
        "from collections import OrderedDict\n",
        "from google.colab.patches import cv2_imshow\n",
        "import cv2\n",
        "import os\n",
        "import easyocr\n",
        "import easydict\n",
        "import argparse\n",
        "import numpy as np\n",
        "import matplotlib.pyplot as plt\n",
        "\n",
        "result = []\n",
        "\n",
        "def yoloExe(img):\n",
        "    # %cd /content/yolov5/\n",
        "    %cd /content/yolov5/\n",
        "    img_list = glob(img)\n",
        "\n",
        "    val_img_path = img_list[0]\n",
        "\n",
        "    # weights_path = '/content/pill_yolo.pt'\n",
        "    weights_path = '/content/drive/MyDrive/Colab/pill_yolo.pt'\n",
        "\n",
        "    !python detect.py --weights \"{weights_path}\" --img 416 --conf 0.5 --source \"{val_img_path}\" --line-thickness 1 --save-crop\n",
        "\n",
        "    detect_img_path = img\n",
        "    Image(os.path.join(detect_img_path, os.path.basename(val_img_path)))\n",
        "\n",
        "def setLabel(img, pts, label): #비율 계산에 사용되는 레이블 함수\n",
        "    (x, y, w, h) = cv2.boundingRect(pts)\n",
        "    pt1 = (x, y)\n",
        "    pt2 = (x + w, y + h)\n",
        "    cv2.rectangle(img, pt1, pt2, (0, 255, 0), 2)\n",
        "    cv2.putText(img, label, (pt1[0], pt1[1]-3), cv2.FONT_HERSHEY_SIMPLEX, 0.7, (0, 0, 255))\n",
        "\n",
        "def rmBg(path):\n",
        "    input_path = path\n",
        "    output_path = 'rmbg.jpg'\n",
        "\n",
        "    with open(input_path, 'rb') as i:\n",
        "        with open(output_path, 'wb') as o:\n",
        "            input = i.read()\n",
        "            output = remove(input)\n",
        "            o.write(output)\n",
        "    return '/content/rmbg.jpg'\n",
        "\n",
        "def binary(path):\n",
        "    img = cv2.imread(path)\n",
        "    gray = cv2.cvtColor(img, cv2.COLOR_BGR2GRAY)\n",
        "    ret, dst = cv2.threshold (gray, 155, 255, cv2.THRESH_BINARY)\n",
        "    cv2.imwrite(\"/content/binary.jpg\", dst)\n",
        "\n",
        "    img = cv2.imread(\"/content/binary.jpg\")\n",
        "    k = cv2.getStructuringElement(cv2.MORPH_RECT, (3,3))\n",
        "    # 침식 연산 적용 ---②\n",
        "    dilate = cv2.dilate(img, k)\n",
        "\n",
        "    #cv2_imshow(erosion)\n",
        "    cv2.imwrite(\"/content/dilate.jpg\", dilate)\n",
        "    return '/content/dilate.jpg'\n",
        "\n",
        "def reverse(path): #이진화된 이미지 반전시키는 함수\n",
        "    img = cv2.imread(path)\n",
        "    out = img.copy()\n",
        "    out = 255 - out\n",
        "    cv2.imwrite(\"/content/pill.jpg\", out)\n",
        "    return '/content/pill.jpg'\n",
        "\n",
        "def cont(path): #원, 타원, 장방형의 각형을 알려주는 함수\n",
        "    img = cv2.imread(path)\n",
        "    img2 = img.copy()\n",
        "    img_gray = cv2.cvtColor(img, cv2.COLOR_BGR2GRAY)\n",
        "    res, thr = cv2.threshold(img_gray, 127, 255, cv2.THRESH_BINARY)\n",
        "    contours, hierarchy = cv2.findContours(thr, cv2.RETR_TREE, cv2.CHAIN_APPROX_SIMPLE)\n",
        "\n",
        "    cnt = contours[0]\n",
        "    cv2.drawContours(img, [cnt], -1, (255, 255, 0), 2)\n",
        "\n",
        "    epsilon2 =  0.005 * cv2.arcLength(cnt, True)\n",
        "    approx2 = cv2.approxPolyDP(cnt, epsilon2, True)\n",
        "    cv2.drawContours(img2, [approx2], -1, (0, 255, 0), 3)\n",
        "\n",
        "    print(\"[Case1.제형] n각형 분석 : \"+str(len(approx2))+\"각형\")\n",
        "    detect(path)\n",
        "    #print(len(approx2))\n",
        "    if len(approx2) == 16: #16각형이면 detect함수 실행\n",
        "        detect(path)\n",
        "    else: #16각형이 아니면 장방형\n",
        "        #print(\"장방형\")\n",
        "        result.append(\"장방형\")\n",
        "\n",
        "def detect(path): #가로세로 비율을 통해 원인지 타원인지 분류하는 함수\n",
        "    src = cv2.imread(reverse(path))\n",
        "    dst = src.copy()\n",
        "\n",
        "    gray = cv2.cvtColor(src, cv2.COLOR_RGB2GRAY)\n",
        "    ret, binary = cv2.threshold(gray, 10, 255, cv2.THRESH_BINARY_INV)\n",
        "\n",
        "    contours, hierarchy = cv2.findContours(binary, cv2.RETR_CCOMP, cv2.CHAIN_APPROX_NONE)\n",
        "    for i in contours:\n",
        "        M = cv2.moments(i)\n",
        "        cX = int(M['m10'] / M['m00'])\n",
        "        cY = int(M['m01'] / M['m00'])\n",
        "        \n",
        "        cv2.circle(dst, (cX, cY), 3, (0, 0, 255), -1)\n",
        "        cv2.drawContours(dst, [i], 0, (0, 0, 255), 2)\n",
        "\n",
        "        setLabel(dst, i, '')\n",
        "        (x, y, w, h) = cv2.boundingRect(i)\n",
        "        \n",
        "    if (h/w) > 0.95 and (h/w) < 1.05: #비율이 0.95와 1.05사이이면 원 출력\n",
        "        #print(\"원형\")\n",
        "        result.append(\"원형\")\n",
        "        print(\"[Case2.비율] 비율 분석(세로/가로 비율) : \"+str(h/w))\n",
        "    else: #그렇지 않으면 타원 출력\n",
        "        #print(\"타원형\")\n",
        "        result.append(\"타원형\")\n",
        "        print(\"[Case2.비율] 비율 분석(세로/가로 비율) : \"+str(h/w))\n",
        "\n",
        "def centroid_histogram(clt):\n",
        "\t# grab the number of different clusters and create a histogram\n",
        "\t# based on the number of pixels assigned to each cluster\n",
        "\tnumLabels = np.arange(0, len(np.unique(clt.labels_)) + 1)\n",
        "\t(hist, _) = np.histogram(clt.labels_, bins = numLabels)\n",
        "\n",
        "\t# normalize the histogram, such that it sums to one\n",
        "\thist = hist.astype(\"float\")\n",
        "\thist /= hist.sum()\n",
        "\n",
        "\t# return the histogram\n",
        "\treturn hist\n",
        "\n",
        "def plot_colors(hist, centroids):\n",
        "\t# initialize the bar chart representing the relative frequency\n",
        "\t# of each of the colors\n",
        "\tbar = np.zeros((50, 300, 3), dtype = \"uint8\")\n",
        "\tstartX = 0\n",
        "\n",
        "\t# loop over the percentage of each cluster and the color of\n",
        "\t# each cluster\n",
        "\tfor (percent, color) in zip(hist, centroids):\n",
        "\t\t# plot the relative percentage of each cluster\n",
        "\t\tendX = startX + (percent * 300)\n",
        "\t\tcv2.rectangle(bar, (int(startX), 0), (int(endX), 50),\n",
        "\t\t\tcolor.astype(\"uint8\").tolist(), -1)\n",
        "\t\tstartX = endX\n",
        "\t\n",
        "\t# return the bar chart\n",
        "\treturn bar\n",
        "\n",
        "def second_largest_number(arr):\n",
        "    unique_nums = set(arr)\n",
        "    sorted_nums = sorted(unique_nums, reverse=True)\n",
        "    return sorted_nums[1]\n",
        "\n",
        "'그레이 스케일'\n",
        "def mtjin_bgr2gray(bgr_img):\n",
        "    # BGR 색상값\n",
        "    b = bgr_img[:, :, 0]\n",
        "    g = bgr_img[:, :, 1]\n",
        "    r = bgr_img[:, :, 2]\n",
        "    result = ((0.299 * r) + (0.587 * g) + (0.114 * b))\n",
        "    # imshow 는 CV_8UC3 이나 CV_8UC1 형식을 위한 함수이므로 타입변환\n",
        "    return result.astype(np.uint8)\n",
        "\n",
        "'히스토그램 평활화'\n",
        "def histogram_equalization(img):\n",
        "  src = cv2.imread(img, cv2.IMREAD_GRAYSCALE)\n",
        "  dst = cv2.equalizeHist(src)\n",
        "  #cv2_imshow(dst)\n",
        "  cv2.imwrite(\"histogram_eq.jpg\", dst)\n",
        "\n",
        "'노이즈 제거(OCR)'\n",
        "def rm_noise(img):\n",
        "  src = cv2.imread(img, cv2.IMREAD_COLOR)\n",
        "  denoised_img = cv2.fastNlMeansDenoisingColored(src, None, 15, 15, 5, 10)\n",
        "  #cv2_imshow(src)\n",
        "  #cv2_imshow(denoised_img)\n",
        "  cv2.imwrite(\"denoise.jpg\", denoised_img)\n",
        "\n",
        "'노이즈 제거(제형)'\n",
        "def rm_noise2(img):\n",
        "  src = cv2.imread(img, cv2.IMREAD_COLOR)\n",
        "  denoised_img = cv2.fastNlMeansDenoisingColored(src, None, 15, 15, 5, 10)\n",
        "  #cv2_imshow(src)\n",
        "  #cv2_imshow(denoised_img)\n",
        "  cv2.imwrite(\"denoise2.jpg\", denoised_img)\n",
        "\n",
        "'OCR'\n",
        "def ocr(img):\n",
        "  reader = easyocr.Reader(['ko', 'en'])\n",
        "  output = reader.readtext(img, detail = 0)\n",
        "  joined_str = \"\".join(output) \n",
        "  #print(joined_str)\n",
        "  result.append(joined_str)\n",
        "  print(\"[Case4.OCR] OCR 분석 결과 : \"+joined_str)\n",
        "\n",
        "def main(): #메인함수\n",
        "    #제형 구하는 부분\n",
        "    yoloExe(\"/content/drive/MyDrive/Colab/pill_rect.jpg\") #YOLO 함수 호출 #이미지 경로에 사용자가 촬영, 선택한 이미지 경로 넣어야함\n",
        "    %cd /content\n",
        "    # rm_path = rmBg('/content/yolov5/runs/detect/exp/crops/pill/원형알약.jpg') #배경제거 함수 호출\n",
        "    rm_path = rmBg('/content/yolov5/runs/detect/exp8/crops/pill/pill_rect.jpg') #배경제거 함수 호출\n",
        "    first_path = binary(rm_path)\n",
        "    second_path = binary(first_path)\n",
        "    third_path = binary(second_path)\n",
        "    fourth_path = binary(third_path)\n",
        "    cont(fourth_path)\n",
        "    #reverse('/content/binary.png')\n",
        "\n",
        "    #색상 구하는 부분\n",
        "    args = easydict.EasyDict({\n",
        "        \"image\": True,\n",
        "        \"clusters\": 3\n",
        "    })\n",
        "\n",
        "    image = cv2.imread(rm_path) #이미지 경로에 rm_path 넣어야함\n",
        "    image = cv2.cvtColor(image, cv2.COLOR_BGR2RGB)\n",
        "\n",
        "    #plt.figure()\n",
        "    #plt.axis(\"off\")\n",
        "    #plt.imshow(image)\n",
        "\n",
        "    # reshape the image to be a list of pixels\n",
        "    image = image.reshape((image.shape[0] * image.shape[1], 3))\n",
        "\n",
        "    # cluster the pixel intensities\n",
        "    clt = KMeans(n_clusters = args[\"clusters\"])\n",
        "    clt.fit(image)\n",
        "\n",
        "    # build a histogram of clusters and then create a figure\n",
        "    # representing the number of pixels labeled to each color\n",
        "    hist = centroid_histogram(clt)\n",
        "    bar = plot_colors(hist, clt.cluster_centers_)\n",
        "\n",
        "    # show our color bart\n",
        "    #plt.figure()\n",
        "    #plt.axis(\"off\")\n",
        "    #plt.imshow(bar)\n",
        "    #plt.show()\n",
        "\n",
        "    temp = clt.cluster_centers_\n",
        "    color_value = temp.astype(\"uint8\").tolist() #세 컬러의 rgb값\n",
        "    second_num = second_largest_number(hist) #히스토그램에서 두 번째로 큰 값(두 번째 색)\n",
        "\n",
        "    for i in range(3): #두 번째로 큰 값의 인덱스를 구함\n",
        "      if (second_num == hist[i]):\n",
        "        color_idx = i\n",
        "\n",
        "    #print(color_value[color_idx])\n",
        "\n",
        "    if (color_value[color_idx][0] > 190) and (color_value[color_idx][1] > 190) and (color_value[color_idx][2] > 190):\n",
        "      #print(\"하양\")\n",
        "      result.append(\"하양\")\n",
        "    elif (color_value[color_idx][0] < 50) and (color_value[color_idx][1] < 50) and (color_value[color_idx][2] < 50):\n",
        "      #print(\"검정\")\n",
        "      result.append(\"검정\")\n",
        "    elif (abs(color_value[color_idx][0] - color_value[color_idx][1]) < 20) and (abs(color_value[color_idx][0] - color_value[color_idx][1]) < abs(color_value[color_idx][1] - color_value[color_idx][2])):\n",
        "      #print(\"노랑\")\n",
        "      result.append(\"노랑\")\n",
        "    elif (abs(color_value[color_idx][0] - color_value[color_idx][2]) < 20):\n",
        "      #print(\"분홍\")\n",
        "      result.append(\"분홍\")\n",
        "    elif (color_value[color_idx][0] > color_value[color_idx][1]) and (color_value[color_idx][0] > color_value[color_idx][2]):\n",
        "      #print(\"빨강 계열\")\n",
        "      result.append(\"빨강 계열\")\n",
        "    elif (color_value[color_idx][1] > color_value[color_idx][0]) and (color_value[color_idx][1] > color_value[color_idx][2]):\n",
        "      #print(\"녹색 계열\")\n",
        "      result.append(\"녹색 계열\")\n",
        "    elif (color_value[color_idx][2] > color_value[color_idx][0]) and (color_value[color_idx][2] > color_value[color_idx][1]):\n",
        "      #print(\"파랑 계열\")\n",
        "      result.append(\"파랑 계열\")\n",
        "\n",
        "    print(\"[Case3.색상] 색상 분석(R,G,B)\")  \n",
        "    print(\"[Case3-1.색상] 색상 분석(빨간색, R) : \"+str(color_value[color_idx][0]))\n",
        "    print(\"[Case3-2.색상] 색상 분석(초록색, G) : \"+str(color_value[color_idx][1]))    \n",
        "    print(\"[Case3-3.색상] 색상 분석(파란색, B) : \"+str(color_value[color_idx][2]))\n",
        "\n",
        "    #텍스트 구하는 부분\n",
        "    input_img = cv2.imread(rm_path, cv2.IMREAD_COLOR) #이미지 경로 변경 #이미지 경로에 rm_path 넣어야함\n",
        "    bgr_img = mtjin_bgr2gray(input_img)\n",
        "    #cv2_imshow(bgr_img)\n",
        "    cv2.imwrite(\"gray.jpg\", bgr_img)\n",
        "    histogram_equalization(\"/content/gray.jpg\")\n",
        "    rm_noise(\"/content/histogram_eq.jpg\")\n",
        "    rm_noise(\"/content/denoise.jpg\")\n",
        "    rm_noise(\"/content/denoise.jpg\")\n",
        "    rm_noise(\"/content/denoise.jpg\")\n",
        "    ocr(\"/content/denoise.jpg\")\n",
        "\n",
        "    print(\"[Case5.최종 분석결과] : \"+str(result))\n",
        "\n",
        "if __name__ == \"__main__\":\n",
        "\t  main()"
      ]
    },
    {
      "cell_type": "code",
      "source": [
        "from google.colab import drive\n",
        "drive.mount('/content/drive')"
      ],
      "metadata": {
        "colab": {
          "base_uri": "https://localhost:8080/"
        },
        "id": "93Nw1sHmZRHG",
        "outputId": "3cfb5ee1-533a-4d48-efd7-7d42d3dc65e0"
      },
      "execution_count": null,
      "outputs": [
        {
          "output_type": "stream",
          "name": "stdout",
          "text": [
            "Mounted at /content/drive\n"
          ]
        }
      ]
    },
    {
      "cell_type": "code",
      "source": [
        "# Google Drive 연동(마운트)\n",
        "from google.colab import drive\n",
        "drive.mount('/content/gdrive')"
      ],
      "metadata": {
        "colab": {
          "base_uri": "https://localhost:8080/"
        },
        "id": "CuQvq-zlTa0A",
        "outputId": "32cc83cb-c30a-4245-e6e0-96e8ba46b409"
      },
      "execution_count": null,
      "outputs": [
        {
          "output_type": "stream",
          "name": "stdout",
          "text": [
            "Mounted at /content/gdrive\n"
          ]
        }
      ]
    },
    {
      "cell_type": "code",
      "source": [
        "# Google Drive에 업로드된 이미지 호출 및 출력\n",
        "from IPython.display import Image\n",
        "Image('/content/gdrive/MyDrive/Colab/pill.jpg')"
      ],
      "metadata": {
        "colab": {
          "base_uri": "https://localhost:8080/",
          "height": 390
        },
        "id": "dBFOXpzpUe9_",
        "outputId": "6db4b5f1-b193-4a15-d3b4-c40def31894f"
      },
      "execution_count": null,
      "outputs": [
        {
          "output_type": "execute_result",
          "data": {
            "text/plain": [
              "<IPython.core.display.Image object>"
            ],
            "image/jpeg": "[encoded data removed]"
          },
          "metadata": {},
          "execution_count": 12
        }
      ]
    },
    {
      "cell_type": "code",
      "source": [
        ""
      ],
      "metadata": {
        "id": "eBPuhclcWnHi"
      },
      "execution_count": null,
      "outputs": []
    }
  ]
}